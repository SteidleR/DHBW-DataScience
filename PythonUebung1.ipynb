{
 "cells": [
  {
   "cell_type": "markdown",
   "metadata": {},
   "source": [
    "# Python Übung 1 - Daten untersuchen"
   ]
  },
  {
   "cell_type": "code",
   "execution_count": 1,
   "metadata": {},
   "outputs": [],
   "source": [
    "data1 = [[10, 8.04], [8, 6.95], [13, 7.58], [9, 8.81], [11, 8.33], [14, 9.96], [6, 7.24], [4,  4.26], [12, 10.84], [7, 4.82], [5, 5.68]]\n",
    "data2 = [[10, 9.14], [8, 8.14], [13, 8.74], [9, 8.77], [11, 9.26], [14, 8.1],  [6, 6.13], [4,  3.1],  [12,  9.13], [7, 7.26], [5, 4.74]]\n",
    "data3 = [[10, 7.46], [8, 6.77], [13,12.74], [9, 7.11], [11, 7.81], [14, 8.84], [6, 6.08], [4,  5.39], [12,  8.15], [7, 6.42], [5,5.73]]\n",
    "data4 = [[ 8, 6.58], [8, 5.76], [ 8, 7.71], [8, 8.84], [ 8, 8.47], [ 8, 7.04], [8, 5.25], [19,12.5],  [ 8,  5.56], [8, 7.91], [8, 6.89]]\n"
   ]
  },
  {
   "cell_type": "markdown",
   "metadata": {},
   "source": [
    "1: Benutzen Sie eine Python-Funktion, um die Anzahl der Dimensionen p zu berechnen für alle 4 Datenreihen. \n",
    "Hinweis: Importieren Sie pandas und erstellen Sie 4 DataFrames für die Daten, benennen Sie die Spalten X und Y."
   ]
  },
  {
   "cell_type": "code",
   "execution_count": 2,
   "metadata": {},
   "outputs": [
    {
     "name": "stdout",
     "output_type": "stream",
     "text": [
      "2\n",
      "2\n",
      "2\n",
      "2\n"
     ]
    }
   ],
   "source": [
    "import pandas as pd\n",
    "#ToDo\n",
    "df1 = pd.DataFrame(data1, columns=[\"X\",\"Y\"])\n",
    "df2 = pd.DataFrame(data2, columns=[\"X\",\"Y\"])\n",
    "df3 = pd.DataFrame(data3, columns=[\"X\",\"Y\"])\n",
    "df4 = pd.DataFrame(data4, columns=[\"X\",\"Y\"])\n",
    "\n",
    "dataframes = [df1, df2, df3, df4]\n",
    "\n",
    "for df in dataframes:\n",
    "    print(len(df.columns))"
   ]
  },
  {
   "cell_type": "markdown",
   "metadata": {},
   "source": [
    "2: Geben Sie die Anzahl der Datenpunkte, den Durchschnitt, Min, Max, und die Perzentilen aus. Vergleichen Sie die Werte über alle Datensätze."
   ]
  },
  {
   "cell_type": "code",
   "execution_count": 3,
   "metadata": {},
   "outputs": [
    {
     "name": "stdout",
     "output_type": "stream",
     "text": [
      "N  Mean              Min  Max   0.25               0.75             \n",
      "----------------------------------------------------------------\n",
      "11 7.500909090909093 4.26 10.84 6.3149999999999995 8.57             \n",
      "11 7.50090909090909  3.1  9.26  6.695              8.95             \n",
      "11 7.5               5.39 12.74 6.25               7.98             \n",
      "11 7.500909090909091 5.25 12.5  6.17               8.190000000000001\n"
     ]
    }
   ],
   "source": [
    "print(\"{:2} {:<17} {:<4} {:<5} {:<18} {:<17}\".format(\"N\", \"Mean\", \"Min\", \"Max\", \"0.25\", \"0.75\"))\n",
    "print(\"-\"*64)\n",
    "\n",
    "for df in dataframes:\n",
    "    print(\"{:2} {:<17} {:<4} {:<5} {:<18} {:<17}\".format(len(df), df.mean().Y, df.min().Y, df.max().Y, df.Y.quantile(0.25), df.Y.quantile(0.75)))"
   ]
  },
  {
   "cell_type": "markdown",
   "metadata": {},
   "source": [
    "3: Berechnen Sie die Korrelation zwischen X und Y für alle 4 Datensätze. Was können Sie daraus schließen? Berechnen Sie zudem auch die Korrletion ^2. "
   ]
  },
  {
   "cell_type": "code",
   "execution_count": 4,
   "metadata": {},
   "outputs": [
    {
     "name": "stdout",
     "output_type": "stream",
     "text": [
      "0.8164205163448399 0.666542459508775\n",
      "0.8162365060002427 0.6662420337274841\n",
      "0.8162867394895984 0.6663240410665595\n",
      "0.8165214368885028 0.6667072568984652\n"
     ]
    }
   ],
   "source": [
    "for df in dataframes:\n",
    "    print(df.corr()[\"X\"][\"Y\"], df.corr()[\"X\"][\"Y\"]**2)"
   ]
  },
  {
   "cell_type": "markdown",
   "metadata": {},
   "source": [
    "4: Erstellen Sie Scatterplots für alle vier Datensätze. Hint: Nutzen Sie Seaborn oder Matplotlib. "
   ]
  },
  {
   "cell_type": "code",
   "execution_count": 5,
   "metadata": {},
   "outputs": [
    {
     "data": {
      "image/png": "[encoded data removed]",
      "text/plain": [
       "<Figure size 432x288 with 1 Axes>"
      ]
     },
     "metadata": {
      "needs_background": "light"
     },
     "output_type": "display_data"
    }
   ],
   "source": [
    "import seaborn as sns \n",
    "\n",
    "for i, df in enumerate(dataframes):\n",
    "    sns.scatterplot(x=df[\"X\"], y=df[\"Y\"])"
   ]
  },
  {
   "cell_type": "markdown",
   "metadata": {},
   "source": [
    "5: Führen Sie eine lineare Regression durch. Der unten gegebene Code importiert bereits numpy und das Modell als auch den Plot. Das reshaping für die Lineare Regression ist auch schon erledigt. "
   ]
  },
  {
   "cell_type": "code",
   "execution_count": 6,
   "metadata": {},
   "outputs": [],
   "source": [
    "import numpy as np\n",
    "import matplotlib.pyplot as plt  \n",
    "from sklearn.linear_model import LinearRegression\n",
    "\n",
    "dataframes_lr = []\n",
    "\n",
    "for df in dataframes:\n",
    "    X = df.iloc[:, 0].values.reshape(-1, 1)  # numpy! \n",
    "    Y = df.iloc[:, 1].values.reshape(-1, 1)  \n",
    "    \n",
    "    dataframes_lr.append([X,Y])"
   ]
  },
  {
   "cell_type": "markdown",
   "metadata": {},
   "source": [
    "5: contd. Danach müssen Sie das Objekt LinearRegression instanziieren und \"fitten\". Sie können die Regression mit score bewerten. Geben Sie die Koeffizienten aus (coef_) und die Schnittstelle (intercept_). Vergleichen Sie den score (R^2-Wert) mit dem oben berechneten Korrelation ^ 2 Wert. "
   ]
  },
  {
   "cell_type": "code",
   "execution_count": 7,
   "metadata": {},
   "outputs": [
    {
     "name": "stdout",
     "output_type": "stream",
     "text": [
      "Score: 0.6665424595087748  Coef: [[0.50009091]] Intercept: [3.00009091]\n",
      "Score: 0.6662420337274844  Coef: [[0.5]] Intercept: [3.00090909]\n",
      "Score: 0.6663240410665592  Coef: [[0.49972727]] Intercept: [3.00245455]\n",
      "Score: 0.6667072568984653  Coef: [[0.49990909]] Intercept: [3.00172727]\n"
     ]
    }
   ],
   "source": [
    "lrs = list()\n",
    "\n",
    "for df in dataframes_lr:\n",
    "    X = df[0]\n",
    "    Y = df[1]\n",
    "    \n",
    "    regr = LinearRegression()\n",
    "    regr.fit(X, Y)\n",
    "    \n",
    "    print(\"Score: {}  Coef: {} Intercept: {}\".format(regr.score(X, Y), regr.coef_, regr.intercept_))\n",
    "    \n",
    "    lrs.append(regr)"
   ]
  },
  {
   "cell_type": "markdown",
   "metadata": {},
   "source": [
    "6: Sagen die die Werte für Y_pred mit predict voraus. Nutzen Sie einen Scatterplot, um X, Y und die Regressionslinie einzuzeichnen. Das geht z. B. mit Matplotlib oder Seaborn. "
   ]
  },
  {
   "cell_type": "code",
   "execution_count": 8,
   "metadata": {},
   "outputs": [
    {
     "data": {
      "application/vnd.jupyter.widget-view+json": {
       "model_id": "ffced6ab288d4833b3d2c25f7d04a80d",
       "version_major": 2,
       "version_minor": 0
      },
      "text/plain": [
       "Tab(children=(Output(), Output(), Output(), Output()), _titles={'0': 'Dataset 0', '1': 'Dataset 1', '2': 'Data…"
      ]
     },
     "metadata": {},
     "output_type": "display_data"
    }
   ],
   "source": [
    "import ipywidgets as widgets\n",
    "\n",
    "tab = widgets.Tab()\n",
    "\n",
    "plots = []\n",
    "\n",
    "for i, df in enumerate(dataframes_lr):\n",
    "    X = df[0]\n",
    "    Y = df[1]\n",
    "    \n",
    "    plt.scatter(X, Y)\n",
    "    plt.plot(X, regr.predict(X), color='grey', linewidth=2)\n",
    "    \n",
    "    out = widgets.Output()\n",
    "    with out:\n",
    "        plt.show()\n",
    "    \n",
    "    tab.set_title(i, f\"Dataset {i}\")\n",
    "    plots.append(out)\n",
    "    \n",
    "tab.children = plots\n",
    "\n",
    "display(tab)"
   ]
  },
  {
   "cell_type": "markdown",
   "metadata": {},
   "source": [
    "7: Löschen Sie den \"Ausreißer\" aus Datensatz 3. Wiederholen Sie die Schritte 5 und 6. Was fällt auf? "
   ]
  },
  {
   "cell_type": "code",
   "execution_count": 9,
   "metadata": {},
   "outputs": [
    {
     "data": {
      "image/png": "[encoded data removed]",
      "text/plain": [
       "<Figure size 432x288 with 1 Axes>"
      ]
     },
     "metadata": {
      "needs_background": "light"
     },
     "output_type": "display_data"
    }
   ],
   "source": [
    "data3 = [[10, 7.46], [8, 6.77], [9, 7.11], [11, 7.81], [14, 8.84], [6, 6.08], [4,  5.39], [12,  8.15], [7, 6.42], [5,5.73]]\n",
    "\n",
    "df3_cleaned = pd.DataFrame(data3, columns=[\"X\",\"Y\"])\n",
    "X = df3_cleaned.iloc[:, 0].values.reshape(-1, 1)  # numpy! \n",
    "Y = df3_cleaned.iloc[:, 1].values.reshape(-1, 1)  \n",
    "regr = LinearRegression()\n",
    "regr.fit(X, Y)\n",
    "\n",
    "plt.scatter(X, Y)\n",
    "plt.plot(X, regr.predict(X), color='grey', linewidth=2)\n",
    "plt.show()"
   ]
  },
  {
   "cell_type": "markdown",
   "metadata": {},
   "source": [
    "8: Denken Sie kurz darüber nach, was Sie aus dieser gesamten Übung mitnehmen können. Helfen Sie Mitstudierenden."
   ]
  },
  {
   "cell_type": "code",
   "execution_count": 10,
   "metadata": {},
   "outputs": [],
   "source": [
    "#ToDo"
   ]
  },
  {
   "cell_type": "markdown",
   "metadata": {},
   "source": [
    "9: Optional: Erstellen Sie Boxplots für die Daten."
   ]
  },
  {
   "cell_type": "code",
   "execution_count": 11,
   "metadata": {},
   "outputs": [
    {
     "data": {
      "application/vnd.jupyter.widget-view+json": {
       "model_id": "85c2b902b556467b9089db05a90e310a",
       "version_major": 2,
       "version_minor": 0
      },
      "text/plain": [
       "Tab(children=(Output(), Output(), Output(), Output()), _titles={'0': 'Dataset 0', '1': 'Dataset 1', '2': 'Data…"
      ]
     },
     "metadata": {},
     "output_type": "display_data"
    }
   ],
   "source": [
    "tab_box = widgets.Tab()\n",
    "\n",
    "plots = []\n",
    "\n",
    "for i, df in enumerate(dataframes):\n",
    "    plt.boxplot(df.Y)\n",
    "    \n",
    "    out = widgets.Output()\n",
    "    with out:\n",
    "        plt.show()\n",
    "    \n",
    "    tab_box.set_title(i, f\"Dataset {i}\")\n",
    "    plots.append(out)\n",
    "    \n",
    "tab_box.children = plots\n",
    "display(tab_box)"
   ]
  }
 ],
 "metadata": {
  "kernelspec": {
   "display_name": "Python 3 (ipykernel)",
   "language": "python",
   "name": "python3"
  },
  "language_info": {
   "codemirror_mode": {
    "name": "ipython",
    "version": 3
   },
   "file_extension": ".py",
   "mimetype": "text/x-python",
   "name": "python",
   "nbconvert_exporter": "python",
   "pygments_lexer": "ipython3",
   "version": "3.8.10"
  },
  "toc-autonumbering": false,
  "toc-showcode": false,
  "toc-showmarkdowntxt": false
 },
 "nbformat": 4,
 "nbformat_minor": 4
}
