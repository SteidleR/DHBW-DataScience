{
 "cells": [
  {
   "cell_type": "markdown",
   "metadata": {},
   "source": [
    "# Python Übung 3 - Fehlermaße für Regression"
   ]
  },
  {
   "cell_type": "code",
   "execution_count": 1,
   "metadata": {},
   "outputs": [],
   "source": [
    "import pandas as pd\n",
    "import seaborn as sns"
   ]
  },
  {
   "cell_type": "markdown",
   "metadata": {
    "tags": []
   },
   "source": [
    "Laden der Zahlen aus Übung 1 (und plotten)"
   ]
  },
  {
   "cell_type": "code",
   "execution_count": 2,
   "metadata": {},
   "outputs": [],
   "source": [
    "df = sns.load_dataset(\"anscombe\")"
   ]
  },
  {
   "cell_type": "markdown",
   "metadata": {},
   "source": [
    "Selektion eines der vier Datensätze"
   ]
  },
  {
   "cell_type": "code",
   "execution_count": 3,
   "metadata": {},
   "outputs": [
    {
     "name": "stdout",
     "output_type": "stream",
     "text": [
      "   dataset     x      y\n",
      "0        I  10.0   8.04\n",
      "1        I   8.0   6.95\n",
      "2        I  13.0   7.58\n",
      "3        I   9.0   8.81\n",
      "4        I  11.0   8.33\n",
      "5        I  14.0   9.96\n",
      "6        I   6.0   7.24\n",
      "7        I   4.0   4.26\n",
      "8        I  12.0  10.84\n",
      "9        I   7.0   4.82\n",
      "10       I   5.0   5.68\n",
      "11      II  10.0   9.14\n",
      "12      II   8.0   8.14\n",
      "13      II  13.0   8.74\n",
      "14      II   9.0   8.77\n",
      "15      II  11.0   9.26\n",
      "16      II  14.0   8.10\n",
      "17      II   6.0   6.13\n",
      "18      II   4.0   3.10\n",
      "19      II  12.0   9.13\n",
      "20      II   7.0   7.26\n",
      "21      II   5.0   4.74\n",
      "22     III  10.0   7.46\n",
      "23     III   8.0   6.77\n",
      "24     III  13.0  12.74\n",
      "25     III   9.0   7.11\n",
      "26     III  11.0   7.81\n",
      "27     III  14.0   8.84\n",
      "28     III   6.0   6.08\n",
      "29     III   4.0   5.39\n",
      "30     III  12.0   8.15\n",
      "31     III   7.0   6.42\n",
      "32     III   5.0   5.73\n",
      "33      IV   8.0   6.58\n",
      "34      IV   8.0   5.76\n",
      "35      IV   8.0   7.71\n",
      "36      IV   8.0   8.84\n",
      "37      IV   8.0   8.47\n",
      "38      IV   8.0   7.04\n",
      "39      IV   8.0   5.25\n",
      "40      IV  19.0  12.50\n",
      "41      IV   8.0   5.56\n",
      "42      IV   8.0   7.91\n",
      "43      IV   8.0   6.89\n"
     ]
    }
   ],
   "source": [
    "print(df)"
   ]
  },
  {
   "cell_type": "code",
   "execution_count": 4,
   "metadata": {},
   "outputs": [
    {
     "name": "stdout",
     "output_type": "stream",
     "text": [
      "            x                                               y            \\\n",
      "        count mean       std  min  25%  50%   75%   max count      mean   \n",
      "dataset                                                                   \n",
      "I        11.0  9.0  3.316625  4.0  6.5  9.0  11.5  14.0  11.0  7.500909   \n",
      "II       11.0  9.0  3.316625  4.0  6.5  9.0  11.5  14.0  11.0  7.500909   \n",
      "III      11.0  9.0  3.316625  4.0  6.5  9.0  11.5  14.0  11.0  7.500000   \n",
      "IV       11.0  9.0  3.316625  8.0  8.0  8.0   8.0  19.0  11.0  7.500909   \n",
      "\n",
      "                                                   \n",
      "              std   min    25%   50%   75%    max  \n",
      "dataset                                            \n",
      "I        2.031568  4.26  6.315  7.58  8.57  10.84  \n",
      "II       2.031657  3.10  6.695  8.14  8.95   9.26  \n",
      "III      2.030424  5.39  6.250  7.11  7.98  12.74  \n",
      "IV       2.030579  5.25  6.170  7.04  8.19  12.50  \n"
     ]
    }
   ],
   "source": [
    "#df.loc[df['x']>8]\n",
    "print(df.groupby(\"dataset\").describe())\n",
    "dataSet3 = df.loc[df[\"dataset\"]=='III']"
   ]
  },
  {
   "cell_type": "markdown",
   "metadata": {},
   "source": [
    "Linare Regression durchführen "
   ]
  },
  {
   "cell_type": "code",
   "execution_count": 5,
   "metadata": {},
   "outputs": [
    {
     "name": "stdout",
     "output_type": "stream",
     "text": [
      "0.6663240410665592   [[0.49972727]]   [3.00245455]\n"
     ]
    }
   ],
   "source": [
    "import matplotlib.pyplot as plt  \n",
    "from sklearn.linear_model import LinearRegression\n",
    "\n",
    "X = dataSet3.iloc[:, 1].values.reshape(-1, 1)  # numpy! \n",
    "Y = dataSet3.iloc[:, 2].values.reshape(-1, 1)  \n",
    "\n",
    "reg = LinearRegression()  \n",
    "reg.fit(X, Y) \n",
    "print(reg.score(X, Y) , \" \" , reg.coef_ , \" \" , reg.intercept_)"
   ]
  },
  {
   "cell_type": "markdown",
   "metadata": {},
   "source": [
    "Werte vorhersagen und einzeichnen"
   ]
  },
  {
   "cell_type": "code",
   "execution_count": 6,
   "metadata": {},
   "outputs": [
    {
     "data": {
      "image/png": "[encoded data removed]",
      "text/plain": [
       "<Figure size 432x288 with 1 Axes>"
      ]
     },
     "metadata": {
      "needs_background": "light"
     },
     "output_type": "display_data"
    }
   ],
   "source": [
    "Y_pred = reg.predict(X)  # make predictions\n",
    "plt.scatter(X, Y)\n",
    "plt.plot(X, Y_pred, color='green')\n",
    "plt.show()"
   ]
  },
  {
   "cell_type": "code",
   "execution_count": 7,
   "metadata": {},
   "outputs": [],
   "source": [
    "#TODO"
   ]
  },
  {
   "cell_type": "markdown",
   "metadata": {},
   "source": [
    "Aufgabe: \n",
    "1. Lesen Sie sich die Metrics durch. Siehe Link https://scikit-learn.org/stable/modules/model_evaluation.html#regression-metrics"
   ]
  },
  {
   "cell_type": "markdown",
   "metadata": {},
   "source": [
    "2. Vergleichen Sie diese  mit denen aus der Vorlesung."
   ]
  },
  {
   "cell_type": "markdown",
   "metadata": {},
   "source": [
    "sklearn.metrics\n",
    "    mean_absolute_error --> MAE\n",
    "    mean_squared_error --> MSE\n",
    "    mean_absolute_percentage_error --> MAPE\n",
    "    r2_score --> R^2\n",
    "    max_error --> MAX"
   ]
  },
  {
   "cell_type": "markdown",
   "metadata": {},
   "source": [
    "3. Bewerten Sie die Trendlinien für alle vier Datensätze. Was schließen Sie daraus? "
   ]
  },
  {
   "cell_type": "code",
   "execution_count": 8,
   "metadata": {},
   "outputs": [],
   "source": [
    "datasets = [df.loc[df[\"dataset\"]=='I'*i] for i in range(1, 4)] + [df.loc[df[\"dataset\"]=='IV']]"
   ]
  },
  {
   "cell_type": "code",
   "execution_count": 9,
   "metadata": {},
   "outputs": [],
   "source": [
    "regs = []\n",
    "reshaped_data = []\n",
    "\n",
    "for ds in datasets:\n",
    "    X = ds.iloc[:, 1].values.reshape(-1, 1)  # numpy! \n",
    "    Y = ds.iloc[:, 2].values.reshape(-1, 1)  \n",
    "\n",
    "    reg = LinearRegression()  \n",
    "    reg.fit(X, Y) \n",
    "    regs.append(reg)\n",
    "    reshaped_data.append([X, Y])"
   ]
  },
  {
   "cell_type": "code",
   "execution_count": 10,
   "metadata": {},
   "outputs": [
    {
     "name": "stdout",
     "output_type": "stream",
     "text": [
      "Score       |MAE         |MSE         |RMSE        |MAPE        |R^2         |MAX         \n",
      "------------------------------------------------------------------------------------------\n",
      "0.6665424595|0.8374049587|1.2511536364|1.1185497916|0.1212578348|0.6665424595|1.9212727273\n",
      "0.6662420337|0.9679338843|1.2523900826|1.1191023557|0.1569518620|0.6662420337|1.9009090909\n",
      "0.6663240411|0.7159669421|1.2505628926|1.1182856936|0.0797072761|0.6663240411|3.2410909091\n",
      "0.6667072569|0.9027272727|1.2493172727|1.1177286221|0.1347384865|0.6667072569|1.8390000000\n"
     ]
    },
    {
     "data": {
      "image/png": "[encoded data removed]",
      "text/plain": [
       "<Figure size 432x288 with 1 Axes>"
      ]
     },
     "metadata": {
      "needs_background": "light"
     },
     "output_type": "display_data"
    }
   ],
   "source": [
    "from sklearn.metrics import mean_absolute_error, mean_squared_error, r2_score, mean_absolute_percentage_error, max_error\n",
    "import math\n",
    "\n",
    "print(\"{:12}|{:12}|{:12}|{:12}|{:12}|{:12}|{:12}\".format(\"Score\", \"MAE\", \"MSE\", \"RMSE\", \"MAPE\", \"R^2\", \"MAX\"))\n",
    "print(\"-\"*90)\n",
    "\n",
    "for i, reg in enumerate(regs):\n",
    "    X = reshaped_data[i][0]\n",
    "    Y = reshaped_data[i][1]\n",
    "    \n",
    "    Y_pred = reg.predict(X)\n",
    "    \n",
    "    plt.scatter(X, Y)\n",
    "    plt.plot(X, Y_pred, color='green')\n",
    "    \n",
    "    print(\"{:1.10f}|{:1.10f}|{:1.10f}|{:1.10f}|{:1.10f}|{:1.10f}|{:1.10f}\".format(\n",
    "        reg.score(X, Y), \n",
    "        mean_absolute_error(Y, Y_pred),\n",
    "        mean_squared_error(Y, Y_pred),\n",
    "        math.sqrt(mean_squared_error(Y, Y_pred)),\n",
    "        mean_absolute_percentage_error(Y, Y_pred),\n",
    "        r2_score(Y, Y_pred),\n",
    "        max_error(Y, Y_pred)\n",
    "    ))\n",
    "    \n",
    "plt.show()"
   ]
  },
  {
   "cell_type": "markdown",
   "metadata": {},
   "source": [
    "4. Löschen Sie einzelne Ausreißer und bewerten Sie erneut."
   ]
  },
  {
   "cell_type": "code",
   "execution_count": 11,
   "metadata": {},
   "outputs": [],
   "source": [
    "dataSet1 = df.loc[df[\"dataset\"]=='I']\n",
    "dataSet2 = df.loc[df[\"dataset\"]=='II']\n",
    "dataSet3 = df.loc[df[\"dataset\"]=='III'].drop(24, axis=0)\n",
    "dataSet4 = df.loc[df[\"dataset\"]=='IV'].drop(40)"
   ]
  },
  {
   "cell_type": "code",
   "execution_count": 12,
   "metadata": {},
   "outputs": [
    {
     "name": "stdout",
     "output_type": "stream",
     "text": [
      "Score        | MAE          | MSE          | RMSE         | MAPE         | R^2          | MAX         \n",
      "----------------------------------------------------------------------------------------------------\n",
      "0.6665424595 | 0.8374049587 | 1.2511536364 | 1.1185497916 | 0.1212578348 | 0.6665424595 | 1.9212727273\n",
      "0.6662420337 | 0.9679338843 | 1.2523900826 | 1.1191023557 | 0.1569518620 | 0.6662420337 | 1.9009090909\n",
      "0.9999931076 | 0.0023116883 | 0.0000075974 | 0.0027563386 | 0.0003469281 | 0.9999931076 | 0.0050649351\n",
      "0.0000000000 | 0.9930000000 | 1.3742490000 | 1.1722836687 | 0.1482123351 | 0.0000000000 | 1.8390000000\n"
     ]
    },
    {
     "data": {
      "image/png": "[encoded data removed]",
      "text/plain": [
       "<Figure size 432x288 with 1 Axes>"
      ]
     },
     "metadata": {
      "needs_background": "light"
     },
     "output_type": "display_data"
    }
   ],
   "source": [
    "datasets_new = [dataSet1, dataSet2, dataSet3, dataSet4]\n",
    "\n",
    "regs = []\n",
    "reshaped_data = []\n",
    "\n",
    "for ds in datasets_new:\n",
    "    X = ds.iloc[:, 1].values.reshape(-1, 1)  # numpy! \n",
    "    Y = ds.iloc[:, 2].values.reshape(-1, 1)  \n",
    "\n",
    "    reg = LinearRegression()  \n",
    "    reg.fit(X, Y) \n",
    "    regs.append(reg)\n",
    "    reshaped_data.append([X, Y])\n",
    "\n",
    "print(\"{:12} | {:12} | {:12} | {:12} | {:12} | {:12} | {:12}\".format(\"Score\", \"MAE\", \"MSE\", \"RMSE\", \"MAPE\", \"R^2\", \"MAX\"))\n",
    "print(\"-\"*100)\n",
    "\n",
    "for i, reg in enumerate(regs):\n",
    "    X = reshaped_data[i][0]\n",
    "    Y = reshaped_data[i][1]\n",
    "    \n",
    "    Y_pred = reg.predict(X)\n",
    "    \n",
    "    plt.scatter(X, Y)\n",
    "    plt.plot(X, Y_pred, color='green')\n",
    "    \n",
    "    print(\"{:1.10f} | {:1.10f} | {:1.10f} | {:1.10f} | {:1.10f} | {:1.10f} | {:1.10f}\".format(\n",
    "        reg.score(X, Y), \n",
    "        mean_absolute_error(Y, Y_pred),\n",
    "        mean_squared_error(Y, Y_pred),\n",
    "        math.sqrt(mean_squared_error(Y, Y_pred)),\n",
    "        mean_absolute_percentage_error(Y, Y_pred),\n",
    "        r2_score(Y, Y_pred),\n",
    "        max_error(Y, Y_pred)\n",
    "    ))\n",
    "    \n",
    "plt.show()"
   ]
  },
  {
   "cell_type": "markdown",
   "metadata": {},
   "source": [
    "5. Was ist das Trainings- und Testset in der Übung hier? Wie sollte es eigentlich sein? "
   ]
  },
  {
   "cell_type": "markdown",
   "metadata": {},
   "source": [
    "Hier: Trainings- und Testset ist das gleiche Set \\\n",
    "Eigentlich: Unterschiedliches Set für Training und Test mit 80/20 verteilung"
   ]
  },
  {
   "cell_type": "markdown",
   "metadata": {},
   "source": [
    "6. Verwenden Sie ein anderes Regressionsverfahren und prüfen Sie, ob es besser ist!"
   ]
  },
  {
   "cell_type": "code",
   "execution_count": 13,
   "metadata": {},
   "outputs": [],
   "source": [
    "from sklearn.linear_model import Lasso\n",
    "\n",
    "regs_new = []\n",
    "reshaped_data_new = []\n",
    "\n",
    "for ds in datasets_new:\n",
    "    X = ds.iloc[:, 1].values.reshape(-1, 1)  # numpy! \n",
    "    Y = ds.iloc[:, 2].values.reshape(-1, 1)  \n",
    "\n",
    "    reg = Lasso()  \n",
    "    reg.fit(X, Y) \n",
    "    regs_new.append(reg)\n",
    "    reshaped_data_new.append([X, Y])"
   ]
  },
  {
   "cell_type": "code",
   "execution_count": 14,
   "metadata": {},
   "outputs": [
    {
     "name": "stdout",
     "output_type": "stream",
     "text": [
      "Score       |MAE         |MSE         |RMSE        |MAPE        |R^2         |MAX         \n",
      "------------------------------------------------------------------------------------------\n",
      "0.6398904536|0.9116033058|1.3511536364|1.1623913439|0.1350050942|0.6398904536|2.1388181818\n",
      "0.6395923524|0.9990082645|1.3523900826|1.1629230768|0.1724582337|0.6395923524|2.4009090909\n",
      "0.9018105083|0.2813722944|0.1082327056|0.3289873943|0.0414025649|0.9018105083|0.5833116883\n",
      "0.0000000000|0.9930000000|1.3742490000|1.1722836687|0.1482123351|0.0000000000|1.8390000000\n"
     ]
    },
    {
     "data": {
      "image/png": "[encoded data removed]",
      "text/plain": [
       "<Figure size 432x288 with 1 Axes>"
      ]
     },
     "metadata": {
      "needs_background": "light"
     },
     "output_type": "display_data"
    }
   ],
   "source": [
    "print(\"{:12}|{:12}|{:12}|{:12}|{:12}|{:12}|{:12}\".format(\"Score\", \"MAE\", \"MSE\", \"RMSE\", \"MAPE\", \"R^2\", \"MAX\"))\n",
    "print(\"-\"*90)\n",
    "\n",
    "for i, reg in enumerate(regs_new):\n",
    "    X = reshaped_data_new[i][0]\n",
    "    Y = reshaped_data_new[i][1]\n",
    "    \n",
    "    Y_pred = reg.predict(X)\n",
    "    \n",
    "    plt.scatter(X, Y)\n",
    "    plt.plot(X, Y_pred, color='green')\n",
    "    \n",
    "    print(\"{:1.10f}|{:1.10f}|{:1.10f}|{:1.10f}|{:1.10f}|{:1.10f}|{:1.10f}\".format(\n",
    "        reg.score(X, Y), \n",
    "        mean_absolute_error(Y, Y_pred),\n",
    "        mean_squared_error(Y, Y_pred),\n",
    "        math.sqrt(mean_squared_error(Y, Y_pred)),\n",
    "        mean_absolute_percentage_error(Y, Y_pred),\n",
    "        r2_score(Y, Y_pred),\n",
    "        max_error(Y, Y_pred)\n",
    "    ))\n",
    "    \n",
    "plt.show()"
   ]
  },
  {
   "cell_type": "code",
   "execution_count": null,
   "metadata": {},
   "outputs": [],
   "source": []
  }
 ],
 "metadata": {
  "kernelspec": {
   "display_name": "Python 3 (ipykernel)",
   "language": "python",
   "name": "python3"
  },
  "language_info": {
   "codemirror_mode": {
    "name": "ipython",
    "version": 3
   },
   "file_extension": ".py",
   "mimetype": "text/x-python",
   "name": "python",
   "nbconvert_exporter": "python",
   "pygments_lexer": "ipython3",
   "version": "3.8.10"
  }
 },
 "nbformat": 4,
 "nbformat_minor": 4
}
